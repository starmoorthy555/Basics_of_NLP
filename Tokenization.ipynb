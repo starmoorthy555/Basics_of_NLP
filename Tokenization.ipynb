{
 "cells": [
  {
   "cell_type": "code",
   "execution_count": 1,
   "id": "4f012400",
   "metadata": {},
   "outputs": [],
   "source": [
    "#Make the PAragraph.\n",
    "paragraph = \"\"\"In this course you will learn what Artificial Intelligence (AI) is, explore use cases and applications of AI, \n",
    "understand AI concepts and terms like machine learning, deep learning and neural networks. You will be exposed to various \n",
    "issues and concerns surrounding AI such as ethics and bias, & jobs, and get advice from experts about learning and starting \n",
    "a career in AI.  You will also demonstrate AI in action with a mini project.\n",
    "This course does not require any programming or computer science expertise and is desi Artificial intelligence was founded as \n",
    "an academic discipline in 1956, and in the years since has experienced several waves of optimism, [6] [7] followed by \n",
    "disappointment and the loss of funding (known as an \"AI winter\"), [8] [9] followed by new approaches, success and renewed \n",
    "funding. [7] [10] AI\"\"\"\n"
   ]
  },
  {
   "cell_type": "code",
   "execution_count": 7,
   "id": "c93991e7",
   "metadata": {},
   "outputs": [
    {
     "data": {
      "text/plain": [
       "825"
      ]
     },
     "execution_count": 7,
     "metadata": {},
     "output_type": "execute_result"
    }
   ],
   "source": [
    "#Finding the lenth of the paragraph.\n",
    "len(paragraph)"
   ]
  },
  {
   "cell_type": "markdown",
   "id": "c49199ba",
   "metadata": {},
   "source": [
    "# Tokenization.\n",
    "    \n",
    "    --> Tokenization is mainly classified into two types.They are\n",
    "    \n",
    "            1.Sent_tokenization.\n",
    "            \n",
    "            2.Word_tokenization."
   ]
  },
  {
   "cell_type": "markdown",
   "id": "b9b8053c",
   "metadata": {},
   "source": [
    "# Sent_tokenization.\n",
    "\n",
    "        -->Sent_tokenize is mainly used for convert the paragraph into sentence.\n",
    "        "
   ]
  },
  {
   "cell_type": "code",
   "execution_count": 2,
   "id": "3c3b24e2",
   "metadata": {},
   "outputs": [],
   "source": [
    "#import nltk libraray.\n",
    "import nltk"
   ]
  },
  {
   "cell_type": "code",
   "execution_count": 5,
   "id": "44e2b9c4",
   "metadata": {},
   "outputs": [],
   "source": [
    "#Converting paragraph into sentence.\n",
    "sentence = nltk.sent_tokenize(paragraph)"
   ]
  },
  {
   "cell_type": "code",
   "execution_count": 6,
   "id": "1339c1c3",
   "metadata": {},
   "outputs": [
    {
     "data": {
      "text/plain": [
       "['In this course you will learn what Artificial Intelligence (AI) is, explore use cases and applications of AI, \\nunderstand AI concepts and terms like machine learning, deep learning and neural networks.',\n",
       " 'You will be exposed to various \\nissues and concerns surrounding AI such as ethics and bias, & jobs, and get advice from experts about learning and starting \\na career in AI.',\n",
       " 'You will also demonstrate AI in action with a mini project.',\n",
       " 'This course does not require any programming or computer science expertise and is desi Artificial intelligence was founded as \\nan academic discipline in 1956, and in the years since has experienced several waves of optimism, [6] [7] followed by \\ndisappointment and the loss of funding (known as an \"AI winter\"), [8] [9] followed by new approaches, success and renewed \\nfunding.',\n",
       " '[7] [10] AI']"
      ]
     },
     "execution_count": 6,
     "metadata": {},
     "output_type": "execute_result"
    }
   ],
   "source": [
    "sentence"
   ]
  },
  {
   "cell_type": "code",
   "execution_count": 8,
   "id": "b8ce8978",
   "metadata": {},
   "outputs": [
    {
     "data": {
      "text/plain": [
       "5"
      ]
     },
     "execution_count": 8,
     "metadata": {},
     "output_type": "execute_result"
    }
   ],
   "source": [
    "len(sentence)"
   ]
  },
  {
   "cell_type": "markdown",
   "id": "fbf89f9e",
   "metadata": {},
   "source": [
    "# Word_tokenize:\n",
    "\n",
    "        -->Mainly used for convert the sentence into words."
   ]
  },
  {
   "cell_type": "code",
   "execution_count": 15,
   "id": "3280adbf",
   "metadata": {},
   "outputs": [],
   "source": [
    "#Converting the sentence into words.\n",
    "words = nltk.word_tokenize(paragraph)"
   ]
  },
  {
   "cell_type": "code",
   "execution_count": 13,
   "id": "f053218c",
   "metadata": {},
   "outputs": [
    {
     "name": "stdout",
     "output_type": "stream",
     "text": [
      "['In', 'this', 'course', 'you', 'will', 'learn', 'what', 'Artificial', 'Intelligence', '(', 'AI', ')', 'is', ',', 'explore', 'use', 'cases', 'and', 'applications', 'of', 'AI', ',', 'understand', 'AI', 'concepts', 'and', 'terms', 'like', 'machine', 'learning', ',', 'deep', 'learning', 'and', 'neural', 'networks', '.', 'You', 'will', 'be', 'exposed', 'to', 'various', 'issues', 'and', 'concerns', 'surrounding', 'AI', 'such', 'as', 'ethics', 'and', 'bias', ',', '&', 'jobs', ',', 'and', 'get', 'advice', 'from', 'experts', 'about', 'learning', 'and', 'starting', 'a', 'career', 'in', 'AI', '.', 'You', 'will', 'also', 'demonstrate', 'AI', 'in', 'action', 'with', 'a', 'mini', 'project', '.', 'This', 'course', 'does', 'not', 'require', 'any', 'programming', 'or', 'computer', 'science', 'expertise', 'and', 'is', 'desi', 'Artificial', 'intelligence', 'was', 'founded', 'as', 'an', 'academic', 'discipline', 'in', '1956', ',', 'and', 'in', 'the', 'years', 'since', 'has', 'experienced', 'several', 'waves', 'of', 'optimism', ',', '[', '6', ']', '[', '7', ']', 'followed', 'by', 'disappointment', 'and', 'the', 'loss', 'of', 'funding', '(', 'known', 'as', 'an', '``', 'AI', 'winter', \"''\", ')', ',', '[', '8', ']', '[', '9', ']', 'followed', 'by', 'new', 'approaches', ',', 'success', 'and', 'renewed', 'funding', '.', '[', '7', ']', '[', '10', ']', 'AI']\n"
     ]
    }
   ],
   "source": [
    "print(list(words))"
   ]
  },
  {
   "cell_type": "code",
   "execution_count": 14,
   "id": "89cfc561",
   "metadata": {},
   "outputs": [
    {
     "data": {
      "text/plain": [
       "167"
      ]
     },
     "execution_count": 14,
     "metadata": {},
     "output_type": "execute_result"
    }
   ],
   "source": [
    "len(words)"
   ]
  },
  {
   "cell_type": "code",
   "execution_count": null,
   "id": "8170c8e5",
   "metadata": {},
   "outputs": [],
   "source": []
  }
 ],
 "metadata": {
  "kernelspec": {
   "display_name": "Python 3",
   "language": "python",
   "name": "python3"
  },
  "language_info": {
   "codemirror_mode": {
    "name": "ipython",
    "version": 3
   },
   "file_extension": ".py",
   "mimetype": "text/x-python",
   "name": "python",
   "nbconvert_exporter": "python",
   "pygments_lexer": "ipython3",
   "version": "3.8.8"
  }
 },
 "nbformat": 4,
 "nbformat_minor": 5
}
