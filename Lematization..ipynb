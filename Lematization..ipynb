{
 "cells": [
  {
   "cell_type": "markdown",
   "id": "37af8faf",
   "metadata": {},
   "source": [
    "# Lematization:\n",
    "\n",
    "        Lematization technique is like stemming.The output will get after lemmatization is called lemma.which is a root word rather then root stem,the output of stemming."
   ]
  },
  {
   "cell_type": "code",
   "execution_count": 1,
   "id": "3807e8a9",
   "metadata": {},
   "outputs": [],
   "source": [
    "#Import Library.\n",
    "import nltk\n",
    "from nltk.stem import WordNetLemmatizer"
   ]
  },
  {
   "cell_type": "code",
   "execution_count": 2,
   "id": "6c4c9c56",
   "metadata": {},
   "outputs": [],
   "source": [
    "#Create an variable.\n",
    "lemmatizer = WordNetLemmatizer()"
   ]
  },
  {
   "cell_type": "code",
   "execution_count": 3,
   "id": "a58dd5df",
   "metadata": {},
   "outputs": [
    {
     "data": {
      "text/plain": [
       "'gone'"
      ]
     },
     "execution_count": 3,
     "metadata": {},
     "output_type": "execute_result"
    }
   ],
   "source": [
    "lemmatizer.lemmatize('gone')"
   ]
  },
  {
   "cell_type": "code",
   "execution_count": 6,
   "id": "c6fa7113",
   "metadata": {},
   "outputs": [
    {
     "data": {
      "text/plain": [
       "'asking'"
      ]
     },
     "execution_count": 6,
     "metadata": {},
     "output_type": "execute_result"
    }
   ],
   "source": [
    "lemmatizer.lemmatize('asking')"
   ]
  },
  {
   "cell_type": "code",
   "execution_count": 11,
   "id": "bf8838a1",
   "metadata": {},
   "outputs": [],
   "source": [
    "x = ['going','asking','playing','drinking','laughing','eating']"
   ]
  },
  {
   "cell_type": "code",
   "execution_count": 12,
   "id": "1996069c",
   "metadata": {},
   "outputs": [
    {
     "name": "stdout",
     "output_type": "stream",
     "text": [
      "going---->going\n",
      "asking---->asking\n",
      "playing---->playing\n",
      "drinking---->drinking\n",
      "laughing---->laughing\n",
      "eating---->eating\n"
     ]
    }
   ],
   "source": [
    "for word in x:\n",
    "    print(word+'---->'+lemmatizer.lemmatize(word))"
   ]
  },
  {
   "cell_type": "code",
   "execution_count": 13,
   "id": "58f62ead",
   "metadata": {},
   "outputs": [],
   "source": [
    "paragraph = \"\"\"In this course you will learn what Artificial Intelligence (AI) is, explore use cases and applications of AI, \n",
    "understand AI concepts and terms like machine learning, deep learning and neural networks. You will be exposed to various \n",
    "issues and concerns surrounding AI such as ethics and bias, & jobs, and get advice from experts about learning and starting \n",
    "a career in AI.  You will also demonstrate AI in action with a mini project.\"\"\""
   ]
  },
  {
   "cell_type": "code",
   "execution_count": 14,
   "id": "4bc82725",
   "metadata": {},
   "outputs": [],
   "source": [
    "words = nltk.word_tokenize(paragraph)"
   ]
  },
  {
   "cell_type": "code",
   "execution_count": 15,
   "id": "3b8c7661",
   "metadata": {},
   "outputs": [
    {
     "data": {
      "text/plain": [
       "['In',\n",
       " 'this',\n",
       " 'course',\n",
       " 'you',\n",
       " 'will',\n",
       " 'learn',\n",
       " 'what',\n",
       " 'Artificial',\n",
       " 'Intelligence',\n",
       " '(',\n",
       " 'AI',\n",
       " ')',\n",
       " 'is',\n",
       " ',',\n",
       " 'explore',\n",
       " 'use',\n",
       " 'cases',\n",
       " 'and',\n",
       " 'applications',\n",
       " 'of',\n",
       " 'AI',\n",
       " ',',\n",
       " 'understand',\n",
       " 'AI',\n",
       " 'concepts',\n",
       " 'and',\n",
       " 'terms',\n",
       " 'like',\n",
       " 'machine',\n",
       " 'learning',\n",
       " ',',\n",
       " 'deep',\n",
       " 'learning',\n",
       " 'and',\n",
       " 'neural',\n",
       " 'networks',\n",
       " '.',\n",
       " 'You',\n",
       " 'will',\n",
       " 'be',\n",
       " 'exposed',\n",
       " 'to',\n",
       " 'various',\n",
       " 'issues',\n",
       " 'and',\n",
       " 'concerns',\n",
       " 'surrounding',\n",
       " 'AI',\n",
       " 'such',\n",
       " 'as',\n",
       " 'ethics',\n",
       " 'and',\n",
       " 'bias',\n",
       " ',',\n",
       " '&',\n",
       " 'jobs',\n",
       " ',',\n",
       " 'and',\n",
       " 'get',\n",
       " 'advice',\n",
       " 'from',\n",
       " 'experts',\n",
       " 'about',\n",
       " 'learning',\n",
       " 'and',\n",
       " 'starting',\n",
       " 'a',\n",
       " 'career',\n",
       " 'in',\n",
       " 'AI',\n",
       " '.',\n",
       " 'You',\n",
       " 'will',\n",
       " 'also',\n",
       " 'demonstrate',\n",
       " 'AI',\n",
       " 'in',\n",
       " 'action',\n",
       " 'with',\n",
       " 'a',\n",
       " 'mini',\n",
       " 'project',\n",
       " '.']"
      ]
     },
     "execution_count": 15,
     "metadata": {},
     "output_type": "execute_result"
    }
   ],
   "source": [
    "words"
   ]
  },
  {
   "cell_type": "code",
   "execution_count": 17,
   "id": "1d0220bd",
   "metadata": {},
   "outputs": [
    {
     "name": "stdout",
     "output_type": "stream",
     "text": [
      "In------->In\n",
      "this------->this\n",
      "course------->course\n",
      "you------->you\n",
      "will------->will\n",
      "learn------->learn\n",
      "what------->what\n",
      "Artificial------->Artificial\n",
      "Intelligence------->Intelligence\n",
      "(------->(\n",
      "AI------->AI\n",
      ")------->)\n",
      "is------->is\n",
      ",------->,\n",
      "explore------->explore\n",
      "use------->use\n",
      "cases------->case\n",
      "and------->and\n",
      "applications------->application\n",
      "of------->of\n",
      "AI------->AI\n",
      ",------->,\n",
      "understand------->understand\n",
      "AI------->AI\n",
      "concepts------->concept\n",
      "and------->and\n",
      "terms------->term\n",
      "like------->like\n",
      "machine------->machine\n",
      "learning------->learning\n",
      ",------->,\n",
      "deep------->deep\n",
      "learning------->learning\n",
      "and------->and\n",
      "neural------->neural\n",
      "networks------->network\n",
      ".------->.\n",
      "You------->You\n",
      "will------->will\n",
      "be------->be\n",
      "exposed------->exposed\n",
      "to------->to\n",
      "various------->various\n",
      "issues------->issue\n",
      "and------->and\n",
      "concerns------->concern\n",
      "surrounding------->surrounding\n",
      "AI------->AI\n",
      "such------->such\n",
      "as------->a\n",
      "ethics------->ethic\n",
      "and------->and\n",
      "bias------->bias\n",
      ",------->,\n",
      "&------->&\n",
      "jobs------->job\n",
      ",------->,\n",
      "and------->and\n",
      "get------->get\n",
      "advice------->advice\n",
      "from------->from\n",
      "experts------->expert\n",
      "about------->about\n",
      "learning------->learning\n",
      "and------->and\n",
      "starting------->starting\n",
      "a------->a\n",
      "career------->career\n",
      "in------->in\n",
      "AI------->AI\n",
      ".------->.\n",
      "You------->You\n",
      "will------->will\n",
      "also------->also\n",
      "demonstrate------->demonstrate\n",
      "AI------->AI\n",
      "in------->in\n",
      "action------->action\n",
      "with------->with\n",
      "a------->a\n",
      "mini------->mini\n",
      "project------->project\n",
      ".------->.\n"
     ]
    }
   ],
   "source": [
    "for word in words:\n",
    "        print(word+'------->'+lemmatizer.lemmatize(word))"
   ]
  },
  {
   "cell_type": "code",
   "execution_count": null,
   "id": "f569a9a5",
   "metadata": {},
   "outputs": [],
   "source": []
  }
 ],
 "metadata": {
  "kernelspec": {
   "display_name": "Python 3",
   "language": "python",
   "name": "python3"
  },
  "language_info": {
   "codemirror_mode": {
    "name": "ipython",
    "version": 3
   },
   "file_extension": ".py",
   "mimetype": "text/x-python",
   "name": "python",
   "nbconvert_exporter": "python",
   "pygments_lexer": "ipython3",
   "version": "3.8.8"
  }
 },
 "nbformat": 4,
 "nbformat_minor": 5
}
