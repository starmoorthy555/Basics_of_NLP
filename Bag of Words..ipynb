{
 "cells": [
  {
   "cell_type": "markdown",
   "id": "8f91dd57",
   "metadata": {},
   "source": [
    "# Bag_of_Words.\n",
    "\n",
    "        Bag of words is mainly used to convert the word to vectors."
   ]
  },
  {
   "cell_type": "code",
   "execution_count": 1,
   "id": "04ef1516",
   "metadata": {},
   "outputs": [],
   "source": [
    "paragraph = \"\"\"In this course you will learn what Artificial Intelligence (AI) is, explore use cases and applications of AI, \n",
    "understand AI concepts and terms like machine learning, deep learning and neural networks. You will be exposed to various \n",
    "issues and concerns surrounding AI such as ethics and bias, & jobs, and get advice from experts about learning and starting \n",
    "a career in AI.  You will also demonstrate AI in action with a mini project.\n",
    "This course does not require any programming or computer science expertise and is desi Artificial intelligence was founded as \n",
    "an academic discipline in 1956, and in the years since has experienced several waves of optimism, [6] [7] followed by \n",
    "disappointment and the loss of funding (known as an \"AI winter\"), [8] [9] followed by new approaches, success and renewed \n",
    "funding. [7] [10] AI\"\"\"\n"
   ]
  },
  {
   "cell_type": "code",
   "execution_count": 2,
   "id": "8e54d4e6",
   "metadata": {},
   "outputs": [],
   "source": [
    "#Importing NLTK Library.\n",
    "import nltk"
   ]
  },
  {
   "cell_type": "code",
   "execution_count": 7,
   "id": "f8dcc4ff",
   "metadata": {},
   "outputs": [
    {
     "data": {
      "text/plain": [
       "['In this course you will learn what Artificial Intelligence (AI) is, explore use cases and applications of AI, \\nunderstand AI concepts and terms like machine learning, deep learning and neural networks.',\n",
       " 'You will be exposed to various \\nissues and concerns surrounding AI such as ethics and bias, & jobs, and get advice from experts about learning and starting \\na career in AI.',\n",
       " 'You will also demonstrate AI in action with a mini project.',\n",
       " 'This course does not require any programming or computer science expertise and is desi Artificial intelligence was founded as \\nan academic discipline in 1956, and in the years since has experienced several waves of optimism, [6] [7] followed by \\ndisappointment and the loss of funding (known as an \"AI winter\"), [8] [9] followed by new approaches, success and renewed \\nfunding.',\n",
       " '[7] [10] AI']"
      ]
     },
     "execution_count": 7,
     "metadata": {},
     "output_type": "execute_result"
    }
   ],
   "source": [
    "#Coverting the Paragraph into Sentence.\n",
    "sentence = nltk.sent_tokenize(paragraph)\n",
    "sentence"
   ]
  },
  {
   "cell_type": "code",
   "execution_count": 8,
   "id": "55666e3c",
   "metadata": {},
   "outputs": [
    {
     "data": {
      "text/plain": [
       "5"
      ]
     },
     "execution_count": 8,
     "metadata": {},
     "output_type": "execute_result"
    }
   ],
   "source": [
    "#Finding the lenth of the sentence.\n",
    "len(sentece)"
   ]
  },
  {
   "cell_type": "code",
   "execution_count": 10,
   "id": "dec5051e",
   "metadata": {},
   "outputs": [],
   "source": [
    "#importing regular expression library.\n",
    "import re\n",
    "corps=[]"
   ]
  },
  {
   "cell_type": "code",
   "execution_count": 11,
   "id": "93ec5742",
   "metadata": {},
   "outputs": [],
   "source": [
    "#Converting the Upper case into Lower case text.\n",
    "for i in range(len(sentence)):\n",
    "    review = re.sub('[^a-zA-z]',' ',sentence[i])\n",
    "    review = review.lower()\n",
    "    corps.append(review)"
   ]
  },
  {
   "cell_type": "code",
   "execution_count": 12,
   "id": "08914f46",
   "metadata": {},
   "outputs": [
    {
     "data": {
      "text/plain": [
       "['in this course you will learn what artificial intelligence  ai  is  explore use cases and applications of ai   understand ai concepts and terms like machine learning  deep learning and neural networks ',\n",
       " 'you will be exposed to various  issues and concerns surrounding ai such as ethics and bias    jobs  and get advice from experts about learning and starting  a career in ai ',\n",
       " 'you will also demonstrate ai in action with a mini project ',\n",
       " 'this course does not require any programming or computer science expertise and is desi artificial intelligence was founded as  an academic discipline in       and in the years since has experienced several waves of optimism  [ ] [ ] followed by  disappointment and the loss of funding  known as an  ai winter    [ ] [ ] followed by new approaches  success and renewed  funding ',\n",
       " '[ ] [  ] ai']"
      ]
     },
     "execution_count": 12,
     "metadata": {},
     "output_type": "execute_result"
    }
   ],
   "source": [
    "corps"
   ]
  },
  {
   "cell_type": "code",
   "execution_count": 13,
   "id": "208fa5c4",
   "metadata": {},
   "outputs": [],
   "source": [
    "#Importing Countvectrizer ibrary.\n",
    "from sklearn.feature_extraction.text import CountVectorizer\n",
    "cv = CountVectorizer()"
   ]
  },
  {
   "cell_type": "code",
   "execution_count": 15,
   "id": "9e6a655e",
   "metadata": {},
   "outputs": [],
   "source": [
    "x =cv.fit_transform(corps)"
   ]
  },
  {
   "cell_type": "code",
   "execution_count": 18,
   "id": "e739b02b",
   "metadata": {},
   "outputs": [
    {
     "data": {
      "text/plain": [
       "array([[0, 0, 0, 0, 3, 0, 0, 3, 0, 1, 0, 1, 0, 0, 0, 0, 0, 1, 0, 1, 0, 1,\n",
       "        1, 0, 0, 0, 0, 0, 0, 0, 0, 0, 1, 0, 0, 0, 0, 0, 0, 0, 1, 1, 1, 0,\n",
       "        0, 0, 1, 2, 1, 0, 1, 0, 1, 1, 0, 0, 1, 0, 0, 0, 0, 0, 0, 0, 0, 0,\n",
       "        0, 0, 0, 0, 1, 0, 1, 0, 1, 1, 0, 0, 0, 1, 1, 0, 0, 0, 1]],\n",
       "      dtype=int64)"
      ]
     },
     "execution_count": 18,
     "metadata": {},
     "output_type": "execute_result"
    }
   ],
   "source": [
    "x[0].toarray()"
   ]
  },
  {
   "cell_type": "code",
   "execution_count": 20,
   "id": "85a8fc07",
   "metadata": {},
   "outputs": [
    {
     "data": {
      "text/plain": [
       "array([[1, 0, 0, 1, 2, 0, 0, 4, 0, 0, 0, 0, 1, 1, 1, 0, 1, 0, 0, 0, 1, 0,\n",
       "        0, 0, 0, 0, 0, 0, 1, 0, 0, 1, 0, 1, 0, 0, 1, 0, 1, 0, 1, 0, 0, 1,\n",
       "        1, 0, 0, 1, 0, 0, 0, 0, 0, 0, 0, 0, 0, 0, 0, 0, 0, 0, 0, 0, 0, 0,\n",
       "        1, 0, 1, 1, 0, 0, 0, 1, 0, 0, 1, 0, 0, 0, 1, 0, 0, 0, 1]],\n",
       "      dtype=int64)"
      ]
     },
     "execution_count": 20,
     "metadata": {},
     "output_type": "execute_result"
    }
   ],
   "source": [
    "x[1].toarray()"
   ]
  }
 ],
 "metadata": {
  "kernelspec": {
   "display_name": "Python 3",
   "language": "python",
   "name": "python3"
  },
  "language_info": {
   "codemirror_mode": {
    "name": "ipython",
    "version": 3
   },
   "file_extension": ".py",
   "mimetype": "text/x-python",
   "name": "python",
   "nbconvert_exporter": "python",
   "pygments_lexer": "ipython3",
   "version": "3.8.8"
  }
 },
 "nbformat": 4,
 "nbformat_minor": 5
}
