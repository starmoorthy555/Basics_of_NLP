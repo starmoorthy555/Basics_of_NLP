{
 "cells": [
  {
   "cell_type": "markdown",
   "id": "91a1aab4",
   "metadata": {},
   "source": [
    "# TFIDF(Term Frequency Inversce Document FreQuency).\n",
    "\n",
    "            TFIDF here we are going to add some weights to which word didnt play the amazing role to \n",
    "     \n",
    "     getting captured the word importance."
   ]
  },
  {
   "cell_type": "code",
   "execution_count": 1,
   "id": "0b34d6b6",
   "metadata": {},
   "outputs": [],
   "source": [
    "paragraph = \"\"\"In this course you will learn what Artificial Intelligence (AI) is, explore use cases and applications of AI, \n",
    "understand AI concepts and terms like machine learning, deep learning and neural networks. You will be exposed to various \n",
    "issues and concerns surrounding AI such as ethics and bias, & jobs, and get advice from experts about learning and starting \n",
    "a career in AI.  You will also demonstrate AI in action with a mini project.\n",
    "This course does not require any programming or computer science expertise and is desi Artificial intelligence was founded as \n",
    "an academic discipline in 1956, and in the years since has experienced several waves of optimism, [6] [7] followed by \n",
    "disappointment and the loss of funding (known as an \"AI winter\"), [8] [9] followed by new approaches, success and renewed \n",
    "funding. [7] [10] AI\"\"\"\n"
   ]
  },
  {
   "cell_type": "code",
   "execution_count": 2,
   "id": "efcdfa92",
   "metadata": {},
   "outputs": [],
   "source": [
    "#Import NlTK library.\n",
    "import nltk"
   ]
  },
  {
   "cell_type": "code",
   "execution_count": 4,
   "id": "9b06ecfe",
   "metadata": {},
   "outputs": [
    {
     "data": {
      "text/plain": [
       "['In this course you will learn what Artificial Intelligence (AI) is, explore use cases and applications of AI, \\nunderstand AI concepts and terms like machine learning, deep learning and neural networks.',\n",
       " 'You will be exposed to various \\nissues and concerns surrounding AI such as ethics and bias, & jobs, and get advice from experts about learning and starting \\na career in AI.',\n",
       " 'You will also demonstrate AI in action with a mini project.',\n",
       " 'This course does not require any programming or computer science expertise and is desi Artificial intelligence was founded as \\nan academic discipline in 1956, and in the years since has experienced several waves of optimism, [6] [7] followed by \\ndisappointment and the loss of funding (known as an \"AI winter\"), [8] [9] followed by new approaches, success and renewed \\nfunding.',\n",
       " '[7] [10] AI']"
      ]
     },
     "execution_count": 4,
     "metadata": {},
     "output_type": "execute_result"
    }
   ],
   "source": [
    "#Convert the Paragraph into sentence.\n",
    "sentence = nltk.sent_tokenize(paragraph)\n",
    "sentence"
   ]
  },
  {
   "cell_type": "code",
   "execution_count": 5,
   "id": "df722a4e",
   "metadata": {},
   "outputs": [
    {
     "data": {
      "text/plain": [
       "5"
      ]
     },
     "execution_count": 5,
     "metadata": {},
     "output_type": "execute_result"
    }
   ],
   "source": [
    "#Finding the lenth of sentence.\n",
    "len(sentence)"
   ]
  },
  {
   "cell_type": "code",
   "execution_count": 7,
   "id": "13891dec",
   "metadata": {},
   "outputs": [],
   "source": [
    "#importing Re library.\n",
    "import re\n",
    "corps =[]"
   ]
  },
  {
   "cell_type": "code",
   "execution_count": 8,
   "id": "7379b805",
   "metadata": {},
   "outputs": [],
   "source": [
    "#Convrt the uppercase into lowercase text.\n",
    "for i in range(len(sentence)):\n",
    "    review = re.sub('[^a-zA-Z]',' ',sentence[i])\n",
    "    review.lower()\n",
    "    corps.append(review)"
   ]
  },
  {
   "cell_type": "code",
   "execution_count": 9,
   "id": "e8a7e4dd",
   "metadata": {},
   "outputs": [
    {
     "data": {
      "text/plain": [
       "['In this course you will learn what Artificial Intelligence  AI  is  explore use cases and applications of AI   understand AI concepts and terms like machine learning  deep learning and neural networks ',\n",
       " 'You will be exposed to various  issues and concerns surrounding AI such as ethics and bias    jobs  and get advice from experts about learning and starting  a career in AI ',\n",
       " 'You will also demonstrate AI in action with a mini project ',\n",
       " 'This course does not require any programming or computer science expertise and is desi Artificial intelligence was founded as  an academic discipline in       and in the years since has experienced several waves of optimism          followed by  disappointment and the loss of funding  known as an  AI winter            followed by new approaches  success and renewed  funding ',\n",
       " '         AI']"
      ]
     },
     "execution_count": 9,
     "metadata": {},
     "output_type": "execute_result"
    }
   ],
   "source": [
    "corps"
   ]
  },
  {
   "cell_type": "code",
   "execution_count": 10,
   "id": "6faa7430",
   "metadata": {},
   "outputs": [],
   "source": [
    "#Impor TFIDF Library.\n",
    "from sklearn.feature_extraction.text import TfidfVectorizer\n",
    "tf = TfidfVectorizer()"
   ]
  },
  {
   "cell_type": "code",
   "execution_count": 11,
   "id": "95247717",
   "metadata": {},
   "outputs": [],
   "source": [
    "y =  tf.fit_transform(corps)"
   ]
  },
  {
   "cell_type": "code",
   "execution_count": 12,
   "id": "41d5a5a8",
   "metadata": {},
   "outputs": [
    {
     "data": {
      "text/plain": [
       "array([[0.        , 0.        , 0.        , 0.        , 0.271105  ,\n",
       "        0.        , 0.        , 0.38102862, 0.        , 0.1896481 ,\n",
       "        0.        , 0.15300689, 0.        , 0.        , 0.        ,\n",
       "        0.        , 0.        , 0.1896481 , 0.        , 0.1896481 ,\n",
       "        0.        , 0.15300689, 0.1896481 , 0.        , 0.        ,\n",
       "        0.        , 0.        , 0.        , 0.        , 0.        ,\n",
       "        0.        , 0.        , 0.1896481 , 0.        , 0.        ,\n",
       "        0.        , 0.        , 0.        , 0.        , 0.        ,\n",
       "        0.10684443, 0.15300689, 0.15300689, 0.        , 0.        ,\n",
       "        0.        , 0.1896481 , 0.30601378, 0.1896481 , 0.        ,\n",
       "        0.1896481 , 0.        , 0.1896481 , 0.1896481 , 0.        ,\n",
       "        0.        , 0.15300689, 0.        , 0.        , 0.        ,\n",
       "        0.        , 0.        , 0.        , 0.        , 0.        ,\n",
       "        0.        , 0.        , 0.        , 0.        , 0.        ,\n",
       "        0.1896481 , 0.        , 0.15300689, 0.        , 0.1896481 ,\n",
       "        0.1896481 , 0.        , 0.        , 0.        , 0.1896481 ,\n",
       "        0.12700954, 0.        , 0.        , 0.        , 0.12700954]])"
      ]
     },
     "execution_count": 12,
     "metadata": {},
     "output_type": "execute_result"
    }
   ],
   "source": [
    "y[0].toarray()"
   ]
  },
  {
   "cell_type": "code",
   "execution_count": 13,
   "id": "be543d55",
   "metadata": {},
   "outputs": [
    {
     "data": {
      "text/plain": [
       "array([[0.18698708, 0.        , 0.        , 0.18698708, 0.17820069,\n",
       "        0.        , 0.        , 0.50090972, 0.        , 0.        ,\n",
       "        0.        , 0.        , 0.15086   , 0.18698708, 0.18698708,\n",
       "        0.        , 0.18698708, 0.        , 0.        , 0.        ,\n",
       "        0.18698708, 0.        , 0.        , 0.        , 0.        ,\n",
       "        0.        , 0.        , 0.        , 0.18698708, 0.        ,\n",
       "        0.        , 0.18698708, 0.        , 0.18698708, 0.        ,\n",
       "        0.        , 0.18698708, 0.        , 0.18698708, 0.        ,\n",
       "        0.10534526, 0.        , 0.        , 0.18698708, 0.18698708,\n",
       "        0.        , 0.        , 0.15086   , 0.        , 0.        ,\n",
       "        0.        , 0.        , 0.        , 0.        , 0.        ,\n",
       "        0.        , 0.        , 0.        , 0.        , 0.        ,\n",
       "        0.        , 0.        , 0.        , 0.        , 0.        ,\n",
       "        0.        , 0.18698708, 0.        , 0.18698708, 0.18698708,\n",
       "        0.        , 0.        , 0.        , 0.18698708, 0.        ,\n",
       "        0.        , 0.18698708, 0.        , 0.        , 0.        ,\n",
       "        0.12522743, 0.        , 0.        , 0.        , 0.12522743]])"
      ]
     },
     "execution_count": 13,
     "metadata": {},
     "output_type": "execute_result"
    }
   ],
   "source": [
    "y[1].toarray()"
   ]
  }
 ],
 "metadata": {
  "kernelspec": {
   "display_name": "Python 3",
   "language": "python",
   "name": "python3"
  },
  "language_info": {
   "codemirror_mode": {
    "name": "ipython",
    "version": 3
   },
   "file_extension": ".py",
   "mimetype": "text/x-python",
   "name": "python",
   "nbconvert_exporter": "python",
   "pygments_lexer": "ipython3",
   "version": "3.8.8"
  }
 },
 "nbformat": 4,
 "nbformat_minor": 5
}
